{
 "cells": [
  {
   "cell_type": "code",
   "execution_count": 2,
   "metadata": {},
   "outputs": [],
   "source": [
    "import pandas as pd\n"
   ]
  },
  {
   "cell_type": "code",
   "execution_count": 6,
   "metadata": {},
   "outputs": [
    {
     "name": "stdout",
     "output_type": "stream",
     "text": [
      "           g1_x       g1_y      g1_z        g2_x       g2_y        g2_z  class\n",
      "0     11.574894 -76.283462 -9.243393    0.000000   0.000000    0.000000   good\n",
      "1     11.375299 -76.146537 -9.108152 -174.153515 -80.120379  173.041179   good\n",
      "2     11.299645 -76.100832 -9.077328 -174.222900 -80.145151  173.056784   good\n",
      "3     11.341434 -76.174561 -9.139042 -174.330933 -80.058043  173.089882   good\n",
      "4     11.333670 -76.192645 -9.157010 -174.451337 -79.961864  173.135536   good\n",
      "..          ...        ...       ...         ...        ...         ...    ...\n",
      "901 -162.677458 -33.285396 -5.398960 -133.891124 -19.077627   -8.027567    bad\n",
      "902 -165.871117 -33.835551 -1.976419 -136.857300 -20.522495   -4.367570    bad\n",
      "903 -168.793899 -34.110361  0.329602 -141.048404 -21.763483   -0.983535    bad\n",
      "904 -171.509685 -33.506005  1.138439 -146.898033 -22.595478    0.964737    bad\n",
      "905 -176.266152 -32.777071 -0.150250 -154.190122 -22.762445    0.936438    bad\n",
      "\n",
      "[906 rows x 7 columns]\n"
     ]
    }
   ],
   "source": [
    "import pandas as pd\n",
    "\n",
    "columns = ['g1_x', 'g1_y', 'g1_z', 'g2_x', 'g2_y', 'g2_z', 'class']\n",
    "\n",
    "good = pd.read_csv(\"../data/goodPosture.txt\", names=columns)\n",
    "bad = pd.read_csv(\"../data/badPosture.txt\", names=columns)\n",
    "\n",
    "df = pd.concat([good, bad], axis=0, ignore_index=True)\n",
    "\n",
    "print(df)\n"
   ]
  },
  {
   "cell_type": "code",
   "execution_count": 8,
   "metadata": {},
   "outputs": [],
   "source": [
    "from sklearn.linear_model import LinearRegression\n",
    "from sklearn.model_selection import train_test_split\n",
    "from sklearn.preprocessing import LabelEncoder"
   ]
  },
  {
   "cell_type": "code",
   "execution_count": 10,
   "metadata": {},
   "outputs": [],
   "source": [
    "label_encoder = LabelEncoder()\n",
    "df['class'] = label_encoder.fit_transform(df['class'])"
   ]
  },
  {
   "cell_type": "code",
   "execution_count": 15,
   "metadata": {},
   "outputs": [
    {
     "data": {
      "text/plain": [
       "(724, 182, 724, 182)"
      ]
     },
     "execution_count": 15,
     "metadata": {},
     "output_type": "execute_result"
    }
   ],
   "source": [
    "X = df[['g1_x', 'g1_y', 'g1_z', 'g2_x', 'g2_y', 'g2_z']]\n",
    "\n",
    "y = df['class']\n",
    "\n",
    "X_train, X_test, y_train, y_test = train_test_split(X, y, test_size=0.2, random_state=42)\n",
    "\n",
    "len(X_train), len(X_test), len(y_train), len(y_test)"
   ]
  },
  {
   "cell_type": "code",
   "execution_count": 16,
   "metadata": {},
   "outputs": [
    {
     "data": {
      "text/plain": [
       "(           g1_x       g1_y        g1_z        g2_x       g2_y        g2_z\n",
       " 84    -4.650601 -81.973547 -128.045247 -171.776457 -76.194576   33.432185\n",
       " 10    11.112542 -76.533275   -9.419471 -174.967414 -79.419032  173.536994\n",
       " 616 -172.142419 -69.824143 -151.731702 -169.503318 -22.639075   13.091739\n",
       " 250 -166.029271 -47.740517  124.459764 -171.667958 -31.939005  115.428783\n",
       " 478 -179.407688 -81.901960  153.271466 -168.768883 -42.129270  149.730867,\n",
       " 84     1\n",
       " 10     1\n",
       " 616    0\n",
       " 250    1\n",
       " 478    0\n",
       " Name: class, dtype: int64)"
      ]
     },
     "execution_count": 16,
     "metadata": {},
     "output_type": "execute_result"
    }
   ],
   "source": [
    "X_train[:5], y_train[:5]"
   ]
  },
  {
   "cell_type": "code",
   "execution_count": 17,
   "metadata": {},
   "outputs": [],
   "source": [
    "from sklearn.linear_model import LogisticRegression\n",
    "\n",
    "LogR = LogisticRegression()\n",
    "\n",
    "model_LogR = LogR.fit(X_train, y_train)\n",
    "\n",
    "predictions = LogR.predict(X_test)"
   ]
  },
  {
   "cell_type": "code",
   "execution_count": 18,
   "metadata": {},
   "outputs": [
    {
     "name": "stdout",
     "output_type": "stream",
     "text": [
      "Accuracy: 0.9285714285714286\n"
     ]
    }
   ],
   "source": [
    "from sklearn.metrics import accuracy_score\n",
    "\n",
    "accuracy = accuracy_score(y_test, predictions)\n",
    "\n",
    "print(f\"Accuracy: {accuracy}\")\n"
   ]
  },
  {
   "cell_type": "code",
   "execution_count": 19,
   "metadata": {},
   "outputs": [
    {
     "name": "stdout",
     "output_type": "stream",
     "text": [
      "Predicted:  good, Actual:  bad\n",
      "Predicted:  good, Actual:  good\n",
      "Predicted:  good, Actual:  good\n",
      "Predicted:  bad, Actual:  bad\n",
      "Predicted:  bad, Actual:  bad\n",
      "Predicted:  bad, Actual:  bad\n",
      "Predicted:  bad, Actual:  bad\n",
      "Predicted:  good, Actual:  good\n",
      "Predicted:  good, Actual:  bad\n",
      "Predicted:  bad, Actual:  bad\n",
      "Predicted:  bad, Actual:  bad\n",
      "Predicted:  good, Actual:  bad\n",
      "Predicted:  good, Actual:  good\n",
      "Predicted:  good, Actual:  good\n",
      "Predicted:  good, Actual:  good\n",
      "Predicted:  bad, Actual:  bad\n",
      "Predicted:  good, Actual:  good\n",
      "Predicted:  good, Actual:  good\n",
      "Predicted:  bad, Actual:  bad\n",
      "Predicted:  bad, Actual:  bad\n",
      "Predicted:  good, Actual:  good\n",
      "Predicted:  good, Actual:  good\n",
      "Predicted:  good, Actual:  good\n",
      "Predicted:  good, Actual:  good\n",
      "Predicted:  bad, Actual:  bad\n",
      "Predicted:  bad, Actual:  bad\n",
      "Predicted:  good, Actual:  good\n",
      "Predicted:  bad, Actual:  bad\n",
      "Predicted:  bad, Actual:  bad\n",
      "Predicted:  good, Actual:  good\n",
      "Predicted:  good, Actual:  good\n",
      "Predicted:  bad, Actual:  bad\n",
      "Predicted:  good, Actual:  good\n",
      "Predicted:  bad, Actual:  bad\n",
      "Predicted:  good, Actual:  good\n",
      "Predicted:  bad, Actual:  bad\n",
      "Predicted:  bad, Actual:  bad\n",
      "Predicted:  good, Actual:  good\n",
      "Predicted:  good, Actual:  good\n",
      "Predicted:  bad, Actual:  bad\n",
      "Predicted:  good, Actual:  good\n",
      "Predicted:  good, Actual:  good\n",
      "Predicted:  good, Actual:  good\n",
      "Predicted:  good, Actual:  good\n",
      "Predicted:  bad, Actual:  bad\n",
      "Predicted:  good, Actual:  good\n",
      "Predicted:  good, Actual:  good\n",
      "Predicted:  good, Actual:  good\n",
      "Predicted:  good, Actual:  good\n",
      "Predicted:  good, Actual:  good\n",
      "Predicted:  bad, Actual:  bad\n",
      "Predicted:  bad, Actual:  bad\n",
      "Predicted:  bad, Actual:  bad\n",
      "Predicted:  bad, Actual:  bad\n",
      "Predicted:  good, Actual:  good\n",
      "Predicted:  good, Actual:  good\n",
      "Predicted:  good, Actual:  good\n",
      "Predicted:  good, Actual:  good\n",
      "Predicted:  bad, Actual:  bad\n",
      "Predicted:  bad, Actual:  bad\n",
      "Predicted:  bad, Actual:  bad\n",
      "Predicted:  good, Actual:  good\n",
      "Predicted:  bad, Actual:  bad\n",
      "Predicted:  bad, Actual:  bad\n",
      "Predicted:  good, Actual:  good\n",
      "Predicted:  good, Actual:  good\n",
      "Predicted:  good, Actual:  bad\n",
      "Predicted:  bad, Actual:  bad\n",
      "Predicted:  good, Actual:  bad\n",
      "Predicted:  good, Actual:  good\n",
      "Predicted:  good, Actual:  good\n",
      "Predicted:  bad, Actual:  bad\n",
      "Predicted:  bad, Actual:  bad\n",
      "Predicted:  bad, Actual:  bad\n",
      "Predicted:  good, Actual:  good\n",
      "Predicted:  good, Actual:  good\n",
      "Predicted:  bad, Actual:  bad\n",
      "Predicted:  good, Actual:  good\n",
      "Predicted:  bad, Actual:  bad\n",
      "Predicted:  good, Actual:  good\n",
      "Predicted:  good, Actual:  good\n",
      "Predicted:  good, Actual:  good\n",
      "Predicted:  good, Actual:  good\n",
      "Predicted:  good, Actual:  good\n",
      "Predicted:  good, Actual:  good\n",
      "Predicted:  good, Actual:  good\n",
      "Predicted:  good, Actual:  good\n",
      "Predicted:  bad, Actual:  bad\n",
      "Predicted:  good, Actual:  good\n",
      "Predicted:  bad, Actual:  bad\n",
      "Predicted:  good, Actual:  good\n",
      "Predicted:  bad, Actual:  bad\n",
      "Predicted:  good, Actual:  good\n",
      "Predicted:  good, Actual:  good\n",
      "Predicted:  good, Actual:  good\n",
      "Predicted:  bad, Actual:  bad\n",
      "Predicted:  bad, Actual:  bad\n",
      "Predicted:  good, Actual:  good\n",
      "Predicted:  good, Actual:  good\n",
      "Predicted:  good, Actual:  good\n",
      "Predicted:  good, Actual:  good\n",
      "Predicted:  good, Actual:  good\n",
      "Predicted:  good, Actual:  good\n",
      "Predicted:  bad, Actual:  bad\n",
      "Predicted:  good, Actual:  good\n",
      "Predicted:  good, Actual:  bad\n",
      "Predicted:  bad, Actual:  bad\n",
      "Predicted:  bad, Actual:  bad\n",
      "Predicted:  bad, Actual:  bad\n",
      "Predicted:  bad, Actual:  bad\n",
      "Predicted:  good, Actual:  good\n",
      "Predicted:  good, Actual:  good\n",
      "Predicted:  good, Actual:  good\n",
      "Predicted:  bad, Actual:  bad\n",
      "Predicted:  good, Actual:  good\n",
      "Predicted:  bad, Actual:  bad\n",
      "Predicted:  bad, Actual:  bad\n",
      "Predicted:  bad, Actual:  bad\n",
      "Predicted:  good, Actual:  bad\n",
      "Predicted:  good, Actual:  good\n",
      "Predicted:  bad, Actual:  bad\n",
      "Predicted:  good, Actual:  good\n",
      "Predicted:  good, Actual:  good\n",
      "Predicted:  bad, Actual:  bad\n",
      "Predicted:  bad, Actual:  bad\n",
      "Predicted:  good, Actual:  good\n",
      "Predicted:  good, Actual:  good\n",
      "Predicted:  good, Actual:  good\n",
      "Predicted:  good, Actual:  good\n",
      "Predicted:  good, Actual:  good\n",
      "Predicted:  good, Actual:  good\n",
      "Predicted:  good, Actual:  good\n",
      "Predicted:  bad, Actual:  bad\n",
      "Predicted:  bad, Actual:  bad\n",
      "Predicted:  bad, Actual:  bad\n",
      "Predicted:  good, Actual:  good\n",
      "Predicted:  good, Actual:  good\n",
      "Predicted:  bad, Actual:  bad\n",
      "Predicted:  bad, Actual:  bad\n",
      "Predicted:  good, Actual:  good\n",
      "Predicted:  bad, Actual:  bad\n",
      "Predicted:  good, Actual:  good\n",
      "Predicted:  good, Actual:  good\n",
      "Predicted:  good, Actual:  good\n",
      "Predicted:  good, Actual:  bad\n",
      "Predicted:  bad, Actual:  bad\n",
      "Predicted:  bad, Actual:  bad\n",
      "Predicted:  good, Actual:  good\n",
      "Predicted:  good, Actual:  bad\n",
      "Predicted:  good, Actual:  good\n",
      "Predicted:  bad, Actual:  bad\n",
      "Predicted:  good, Actual:  good\n",
      "Predicted:  good, Actual:  good\n",
      "Predicted:  bad, Actual:  bad\n",
      "Predicted:  good, Actual:  good\n",
      "Predicted:  bad, Actual:  bad\n",
      "Predicted:  good, Actual:  bad\n",
      "Predicted:  good, Actual:  good\n",
      "Predicted:  good, Actual:  good\n",
      "Predicted:  good, Actual:  good\n",
      "Predicted:  good, Actual:  good\n",
      "Predicted:  good, Actual:  good\n",
      "Predicted:  good, Actual:  good\n",
      "Predicted:  good, Actual:  good\n",
      "Predicted:  good, Actual:  good\n",
      "Predicted:  good, Actual:  bad\n",
      "Predicted:  bad, Actual:  bad\n",
      "Predicted:  bad, Actual:  bad\n",
      "Predicted:  good, Actual:  good\n",
      "Predicted:  good, Actual:  good\n",
      "Predicted:  bad, Actual:  bad\n",
      "Predicted:  bad, Actual:  bad\n",
      "Predicted:  good, Actual:  good\n",
      "Predicted:  bad, Actual:  bad\n",
      "Predicted:  good, Actual:  good\n",
      "Predicted:  bad, Actual:  bad\n",
      "Predicted:  good, Actual:  bad\n",
      "Predicted:  bad, Actual:  bad\n",
      "Predicted:  good, Actual:  bad\n",
      "Predicted:  good, Actual:  good\n",
      "Predicted:  bad, Actual:  bad\n",
      "Predicted:  good, Actual:  good\n"
     ]
    }
   ],
   "source": [
    "for i in range(len(predictions)):\n",
    "    print(f\"Predicted: {label_encoder.inverse_transform([predictions[i]])[0]}, Actual: {label_encoder.inverse_transform([y_test.iloc[i]])[0]}\")"
   ]
  },
  {
   "cell_type": "code",
   "execution_count": 20,
   "metadata": {},
   "outputs": [
    {
     "data": {
      "image/png": "[encoded data removed]",
      "text/plain": [
       "<Figure size 640x480 with 2 Axes>"
      ]
     },
     "metadata": {},
     "output_type": "display_data"
    }
   ],
   "source": [
    "from sklearn.metrics import confusion_matrix, ConfusionMatrixDisplay\n",
    "import matplotlib.pyplot as plt\n",
    "\n",
    "cm = confusion_matrix(y_test, predictions)\n",
    "cm_display = ConfusionMatrixDisplay(confusion_matrix=cm, display_labels=label_encoder.classes_)\n",
    "\n",
    "cm_display.plot(cmap='Blues')\n",
    "plt.title('Confusion Matrix')\n",
    "plt.show()"
   ]
  },
  {
   "cell_type": "code",
   "execution_count": 22,
   "metadata": {},
   "outputs": [
    {
     "data": {
      "text/plain": [
       "['model.pkl']"
      ]
     },
     "execution_count": 22,
     "metadata": {},
     "output_type": "execute_result"
    }
   ],
   "source": [
    "import joblib\n",
    "\n",
    "joblib.dump(model_LogR, 'model.pkl')"
   ]
  },
  {
   "cell_type": "code",
   "execution_count": null,
   "metadata": {},
   "outputs": [],
   "source": []
  }
 ],
 "metadata": {
  "kernelspec": {
   "display_name": "venv",
   "language": "python",
   "name": "python3"
  },
  "language_info": {
   "codemirror_mode": {
    "name": "ipython",
    "version": 3
   },
   "file_extension": ".py",
   "mimetype": "text/x-python",
   "name": "python",
   "nbconvert_exporter": "python",
   "pygments_lexer": "ipython3",
   "version": "3.12.7"
  }
 },
 "nbformat": 4,
 "nbformat_minor": 2
}
